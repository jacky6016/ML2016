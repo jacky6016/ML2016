{
 "cells": [
  {
   "cell_type": "code",
   "execution_count": 4,
   "metadata": {},
   "outputs": [],
   "source": [
    "import warnings\n",
    "warnings.filterwarnings('ignore')"
   ]
  },
  {
   "cell_type": "code",
   "execution_count": 5,
   "metadata": {},
   "outputs": [],
   "source": [
    "import os\n",
    "import numpy as np\n",
    "import pandas as pd\n",
    "from argparse import ArgumentParser\n",
    "from keras.preprocessing.text import one_hot\n",
    "from keras.preprocessing.sequence import pad_sequences\n",
    "from keras.models import Sequential # NN Activation\n",
    "from keras.layers import Embedding # Embedding layer\n",
    "from keras.layers import Flatten\n",
    "from keras.layers import Dense # Fully Connected Networks"
   ]
  },
  {
   "cell_type": "code",
   "execution_count": 6,
   "metadata": {},
   "outputs": [],
   "source": [
    "# Pre-processing: reading and parsing data\n",
    "file_training_label = 'data/training_label.txt'\n",
    "file_training_unlabel = 'data/training_nolabel.txt'"
   ]
  },
  {
   "cell_type": "code",
   "execution_count": 7,
   "metadata": {},
   "outputs": [],
   "source": [
    "with open(file_training_label, 'r', encoding='utf-8') as f:\n",
    "    lines = f.readlines()\n",
    "    sentiment = []\n",
    "    text = []\n",
    "    for line in lines:\n",
    "        parsed = line.split(maxsplit=2)\n",
    "        sentiment.append(int(parsed[0]))\n",
    "        text.append(parsed[2].rstrip('\\n'))\n",
    "        \n",
    "    data_training_label = pd.DataFrame({'sentiment': sentiment, 'text': text})\n",
    "\n",
    "with open(file_training_unlabel, 'r', encoding='utf-8') as f:\n",
    "    lines = f.readlines()    \n",
    "    lines = [line.rstrip('\\n') for line in lines]\n",
    "    \n",
    "    data_training_unlabel = pd.DataFrame({'text': lines})"
   ]
  },
  {
   "cell_type": "code",
   "execution_count": 8,
   "metadata": {},
   "outputs": [],
   "source": [
    "# Word embedding method 1: BOW(bag of words)\n",
    "# Use Gensim module\n",
    "import gensim\n",
    "import pprint\n",
    "from gensim import corpora\n",
    "from gensim.utils import simple_preprocess\n",
    "\n",
    "doc_tokenized = [simple_preprocess(doc) for doc in data_training_label['text'].tolist()]\n",
    "dictionary = corpora.Dictionary()\n",
    "BoW_corpus = [dictionary.doc2bow(doc, allow_update=True) for doc in doc_tokenized]\n",
    "id_words = [[(dictionary[id], count) for id, count in line] for line in BoW_corpus]"
   ]
  },
  {
   "cell_type": "code",
   "execution_count": 55,
   "metadata": {},
   "outputs": [],
   "source": [
    "# integer encode the documents\n",
    "vocab_size = 50\n",
    "encoded_docs_label = [one_hot(d, vocab_size) for d in data_training_label['text']]\n",
    "# pad documents to a max length of 4 words\n",
    "max_length = 16\n",
    "padded_docs_label = pad_sequences(encoded_docs_label, maxlen=max_length, padding='post')"
   ]
  },
  {
   "cell_type": "code",
   "execution_count": 56,
   "metadata": {},
   "outputs": [],
   "source": [
    "encoded_docs_unlabel = [one_hot(d, vocab_size) for d in data_training_unlabel['text']]\n",
    "padded_docs_unlabel = pad_sequences(encoded_docs_unlabel, maxlen=max_length, padding='post')"
   ]
  },
  {
   "cell_type": "code",
   "execution_count": 57,
   "metadata": {},
   "outputs": [
    {
     "name": "stdout",
     "output_type": "stream",
     "text": [
      "Model: \"sequential_11\"\n",
      "_________________________________________________________________\n",
      "Layer (type)                 Output Shape              Param #   \n",
      "=================================================================\n",
      "embedding_11 (Embedding)     (None, 16, 8)             400       \n",
      "_________________________________________________________________\n",
      "flatten_11 (Flatten)         (None, 128)               0         \n",
      "_________________________________________________________________\n",
      "dense_24 (Dense)             (None, 1)                 129       \n",
      "=================================================================\n",
      "Total params: 529\n",
      "Trainable params: 529\n",
      "Non-trainable params: 0\n",
      "_________________________________________________________________\n",
      "None\n",
      "Accuracy: 61.030501\n"
     ]
    }
   ],
   "source": [
    "model = new_model()\n",
    "labels = np.array(data_training_label['sentiment'])\n",
    "model.fit(padded_docs_label, labels, epochs=50, verbose=0)\n",
    "loss, accuracy = model.evaluate(padded_docs_label, labels, verbose=0)\n",
    "print('Accuracy: %f' % (accuracy*100))"
   ]
  },
  {
   "cell_type": "code",
   "execution_count": 68,
   "metadata": {},
   "outputs": [
    {
     "data": {
      "text/plain": [
       "array([[1.],\n",
       "       [0.],\n",
       "       [0.],\n",
       "       ...,\n",
       "       [1.],\n",
       "       [1.],\n",
       "       [1.]], dtype=float32)"
      ]
     },
     "execution_count": 68,
     "metadata": {},
     "output_type": "execute_result"
    }
   ],
   "source": [
    "new_labels = model.predict(padded_docs_unlabel)\n",
    "new_labels[new_labels>=0.5] = 1\n",
    "new_labels[new_labels<0.5] = 0"
   ]
  },
  {
   "cell_type": "code",
   "execution_count": 76,
   "metadata": {},
   "outputs": [],
   "source": [
    "new_labels = new_labels.reshape(new_labels.shape[0],)"
   ]
  },
  {
   "cell_type": "code",
   "execution_count": 82,
   "metadata": {},
   "outputs": [
    {
     "data": {
      "text/plain": [
       "(1378614,)"
      ]
     },
     "execution_count": 82,
     "metadata": {},
     "output_type": "execute_result"
    }
   ],
   "source": [
    "labels_augmented.shape"
   ]
  },
  {
   "cell_type": "code",
   "execution_count": 80,
   "metadata": {},
   "outputs": [],
   "source": [
    "padded_docs_augmented = np.concatenate((padded_docs_label, padded_docs_unlabel), axis=0)\n",
    "labels_augmented = np.concatenate((labels, new_labels))"
   ]
  },
  {
   "cell_type": "code",
   "execution_count": 79,
   "metadata": {},
   "outputs": [
    {
     "data": {
      "text/plain": [
       "array([[ 7, 17, 15, ...,  0,  0,  0],\n",
       "       [ 7, 22, 21, ...,  0,  0,  0],\n",
       "       [ 7, 38,  7, ..., 48,  0,  0],\n",
       "       ...,\n",
       "       [47,  7, 26, ...,  0,  0,  0],\n",
       "       [41, 29, 38, ..., 17,  7, 21],\n",
       "       [43, 20,  7, ...,  0,  0,  0]])"
      ]
     },
     "execution_count": 79,
     "metadata": {},
     "output_type": "execute_result"
    }
   ],
   "source": [
    "padded_docs_augmented"
   ]
  },
  {
   "cell_type": "code",
   "execution_count": 83,
   "metadata": {},
   "outputs": [
    {
     "name": "stdout",
     "output_type": "stream",
     "text": [
      "Model: \"sequential_12\"\n",
      "_________________________________________________________________\n",
      "Layer (type)                 Output Shape              Param #   \n",
      "=================================================================\n",
      "embedding_12 (Embedding)     (None, 16, 8)             400       \n",
      "_________________________________________________________________\n",
      "flatten_12 (Flatten)         (None, 128)               0         \n",
      "_________________________________________________________________\n",
      "dense_25 (Dense)             (None, 1)                 129       \n",
      "=================================================================\n",
      "Total params: 529\n",
      "Trainable params: 529\n",
      "Non-trainable params: 0\n",
      "_________________________________________________________________\n",
      "None\n",
      "Accuracy: 92.730522\n"
     ]
    }
   ],
   "source": [
    "model = new_model()\n",
    "model.fit(padded_docs_augmented, labels_augmented, epochs=50, verbose=0)\n",
    "loss, accuracy = model.evaluate(padded_docs_augmented, labels_augmented, verbose=0)\n",
    "print('Accuracy: %f' % (accuracy*100))"
   ]
  },
  {
   "cell_type": "code",
   "execution_count": 54,
   "metadata": {},
   "outputs": [],
   "source": [
    "# define the model\n",
    "# DNN for classification (1: positive, 0: negative)\n",
    "def new_model():\n",
    "    model = Sequential()\n",
    "    model.add(Embedding(vocab_size, 8, input_length=max_length))\n",
    "    model.add(Flatten())\n",
    "    model.add(Dense(units=1, activation='sigmoid'))\n",
    "    model.compile(optimizer='adam', loss='binary_crossentropy', metrics=['accuracy'])\n",
    "    \n",
    "    print(model.summary())\n",
    "    \n",
    "    return model"
   ]
  },
  {
   "cell_type": "code",
   "execution_count": 42,
   "metadata": {},
   "outputs": [
    {
     "name": "stdout",
     "output_type": "stream",
     "text": [
      "Accuracy: 60.949498\n"
     ]
    }
   ],
   "source": [
    "# fit the model\n",
    "model.fit(padded_docs, labels, epochs=50, verbose=0)\n",
    "# evaluate the model\n",
    "loss, accuracy = model.evaluate(padded_docs, labels, verbose=0)\n",
    "print('Accuracy: %f' % (accuracy*100))"
   ]
  },
  {
   "cell_type": "code",
   "execution_count": 45,
   "metadata": {},
   "outputs": [],
   "source": [
    "encoded_docs = [one_hot(d, vocab_size) for d in data_training_unlabel['text']]\n",
    "padded_docs = pad_sequences(encoded_docs, maxlen=max_length, padding='post')"
   ]
  },
  {
   "cell_type": "code",
   "execution_count": null,
   "metadata": {},
   "outputs": [],
   "source": [
    "with open(file_training_unlabel, 'r', encoding='utf-8') as f:\n",
    "    lines = f.readlines()    \n",
    "    lines = [line.rstrip('\\n') for line in lines]\n",
    "    \n",
    "    data_training_unlabel = pd.DataFrame({'text': lines})"
   ]
  },
  {
   "cell_type": "code",
   "execution_count": null,
   "metadata": {},
   "outputs": [],
   "source": [
    "# Plot learning curve\n",
    "# Fit the model\n",
    "history = model.fit(X, Y, validation_split=0.33, epochs=150, batch_size=10, verbose=0)\n",
    "# list all data in history\n",
    "print(history.history.keys())\n",
    "# summarize history for accuracy\n",
    "plt.plot(history.history['accuracy'])\n",
    "plt.plot(history.history['val_accuracy'])\n",
    "plt.title('model accuracy')\n",
    "plt.ylabel('accuracy')\n",
    "plt.xlabel('epoch')\n",
    "plt.legend(['train', 'test'], loc='upper left')\n",
    "plt.show()\n",
    "# summarize history for loss\n",
    "plt.plot(history.history['loss'])\n",
    "plt.plot(history.history['val_loss'])\n",
    "plt.title('model loss')\n",
    "plt.ylabel('loss')\n",
    "plt.xlabel('epoch')\n",
    "plt.legend(['train', 'test'], loc='upper left')\n",
    "plt.show()"
   ]
  },
  {
   "cell_type": "code",
   "execution_count": null,
   "metadata": {},
   "outputs": [],
   "source": [
    "# Saving model\n",
    "model.save('hw4.h5')"
   ]
  },
  {
   "cell_type": "code",
   "execution_count": null,
   "metadata": {},
   "outputs": [],
   "source": [
    "# Loading Model: download if doesn't exist in current directory\n",
    "model = keras.models.load_model('hw4.h5')"
   ]
  },
  {
   "cell_type": "code",
   "execution_count": null,
   "metadata": {},
   "outputs": [],
   "source": []
  },
  {
   "cell_type": "code",
   "execution_count": 38,
   "metadata": {},
   "outputs": [],
   "source": [
    "file_testing = 'data/testing_data.txt'\n",
    "file_prediction = 'prediction.csv'"
   ]
  },
  {
   "cell_type": "code",
   "execution_count": 45,
   "metadata": {},
   "outputs": [],
   "source": [
    "with open(file_testing, 'r', encoding='utf-8') as f:\n",
    "    lines = f.readlines()\n",
    "    text = []\n",
    "    for line in lines[1:]:\n",
    "        parsed = line.split(',', maxsplit=1)\n",
    "        text.append(parsed[1].rstrip('\\n'))\n",
    "        \n",
    "    data_testing = pd.DataFrame({'text': text})"
   ]
  },
  {
   "cell_type": "code",
   "execution_count": null,
   "metadata": {},
   "outputs": [],
   "source": [
    "model_best.eval()\n",
    "prediction = []\n",
    "with torch.no_grad():\n",
    "    for i, data in enumerate(test_loader):\n",
    "        test_pred = model_best(data.cuda())\n",
    "        test_label = np.argmax(test_pred.cpu().data.numpy(), axis=1)\n",
    "        for y in test_label:\n",
    "            prediction.append(y)"
   ]
  },
  {
   "cell_type": "code",
   "execution_count": 46,
   "metadata": {},
   "outputs": [
    {
     "data": {
      "text/html": [
       "<div>\n",
       "<style scoped>\n",
       "    .dataframe tbody tr th:only-of-type {\n",
       "        vertical-align: middle;\n",
       "    }\n",
       "\n",
       "    .dataframe tbody tr th {\n",
       "        vertical-align: top;\n",
       "    }\n",
       "\n",
       "    .dataframe thead th {\n",
       "        text-align: right;\n",
       "    }\n",
       "</style>\n",
       "<table border=\"1\" class=\"dataframe\">\n",
       "  <thead>\n",
       "    <tr style=\"text-align: right;\">\n",
       "      <th></th>\n",
       "      <th>text</th>\n",
       "    </tr>\n",
       "  </thead>\n",
       "  <tbody>\n",
       "    <tr>\n",
       "      <th>0</th>\n",
       "      <td>my dog ate our dinner . no , seriously ... he ...</td>\n",
       "    </tr>\n",
       "    <tr>\n",
       "      <th>1</th>\n",
       "      <td>omg last day sooon n of primary noooooo x im g...</td>\n",
       "    </tr>\n",
       "    <tr>\n",
       "      <th>2</th>\n",
       "      <td>stupid boys .. they ' re so .. stupid !</td>\n",
       "    </tr>\n",
       "    <tr>\n",
       "      <th>3</th>\n",
       "      <td>hi ! do u know if the nurburgring is open for ...</td>\n",
       "    </tr>\n",
       "    <tr>\n",
       "      <th>4</th>\n",
       "      <td>having lunch in the office , and thinking of h...</td>\n",
       "    </tr>\n",
       "    <tr>\n",
       "      <th>5</th>\n",
       "      <td>shopping was fun</td>\n",
       "    </tr>\n",
       "    <tr>\n",
       "      <th>6</th>\n",
       "      <td>wondering where all the nice weather has gone .</td>\n",
       "    </tr>\n",
       "    <tr>\n",
       "      <th>7</th>\n",
       "      <td>morning ! yeeessssssss new mimi in aug</td>\n",
       "    </tr>\n",
       "    <tr>\n",
       "      <th>8</th>\n",
       "      <td>umm ... maybe that ' s how the british spell it ?</td>\n",
       "    </tr>\n",
       "    <tr>\n",
       "      <th>9</th>\n",
       "      <td>yes it ' s 3 : 50 am . yes i ' m still awake ....</td>\n",
       "    </tr>\n",
       "    <tr>\n",
       "      <th>10</th>\n",
       "      <td>cute heart shaped portal cube . my baby is pla...</td>\n",
       "    </tr>\n",
       "    <tr>\n",
       "      <th>11</th>\n",
       "      <td>had a song on mtv movie awards !!!!!</td>\n",
       "    </tr>\n",
       "    <tr>\n",
       "      <th>12</th>\n",
       "      <td>thanks nite</td>\n",
       "    </tr>\n",
       "    <tr>\n",
       "      <th>13</th>\n",
       "      <td>did not start her religion isu i will fail</td>\n",
       "    </tr>\n",
       "    <tr>\n",
       "      <th>14</th>\n",
       "      <td>that sounds wonderful !! i shall have to try i...</td>\n",
       "    </tr>\n",
       "    <tr>\n",
       "      <th>15</th>\n",
       "      <td>i love ya mariah , i love listening to your so...</td>\n",
       "    </tr>\n",
       "    <tr>\n",
       "      <th>16</th>\n",
       "      <td>there is sooo much love on here that i could f...</td>\n",
       "    </tr>\n",
       "    <tr>\n",
       "      <th>17</th>\n",
       "      <td>just found out i ' m gonna be let out early to...</td>\n",
       "    </tr>\n",
       "    <tr>\n",
       "      <th>18</th>\n",
       "      <td>that was a good thing to wake up to your right...</td>\n",
       "    </tr>\n",
       "    <tr>\n",
       "      <th>19</th>\n",
       "      <td>and old cam ' pic of tene and i . goodtimes . ...</td>\n",
       "    </tr>\n",
       "    <tr>\n",
       "      <th>20</th>\n",
       "      <td>ooh my god ! i know the feeling i cannot stand...</td>\n",
       "    </tr>\n",
       "    <tr>\n",
       "      <th>21</th>\n",
       "      <td>nothing ! just kept us there for 20 minutes un...</td>\n",
       "    </tr>\n",
       "    <tr>\n",
       "      <th>22</th>\n",
       "      <td>6flags today teexxxt i need to shower but i ' ...</td>\n",
       "    </tr>\n",
       "    <tr>\n",
       "      <th>23</th>\n",
       "      <td>apparently , these are from filming , not the ...</td>\n",
       "    </tr>\n",
       "    <tr>\n",
       "      <th>24</th>\n",
       "      <td>hey fairuz ili ! nice to see some friends here</td>\n",
       "    </tr>\n",
       "    <tr>\n",
       "      <th>25</th>\n",
       "      <td>also cancelled my nikon 50mm lens order needed...</td>\n",
       "    </tr>\n",
       "    <tr>\n",
       "      <th>26</th>\n",
       "      <td>headed to dallas tomorrow ... need some sleep ...</td>\n",
       "    </tr>\n",
       "    <tr>\n",
       "      <th>27</th>\n",
       "      <td>i just found out that i won a shirt from prett...</td>\n",
       "    </tr>\n",
       "    <tr>\n",
       "      <th>28</th>\n",
       "      <td>sad i didnt get tickets 2 nin ja in albuquerqu...</td>\n",
       "    </tr>\n",
       "    <tr>\n",
       "      <th>29</th>\n",
       "      <td>has had the most enjoyable day she ' s had for...</td>\n",
       "    </tr>\n",
       "    <tr>\n",
       "      <th>...</th>\n",
       "      <td>...</td>\n",
       "    </tr>\n",
       "    <tr>\n",
       "      <th>199970</th>\n",
       "      <td>rewriting stuff allready written ...</td>\n",
       "    </tr>\n",
       "    <tr>\n",
       "      <th>199971</th>\n",
       "      <td>will check it out when you ' re ready to annou...</td>\n",
       "    </tr>\n",
       "    <tr>\n",
       "      <th>199972</th>\n",
       "      <td>good morning . anyone know why i get a securit...</td>\n",
       "    </tr>\n",
       "    <tr>\n",
       "      <th>199973</th>\n",
       "      <td>bestest followers for the best mr twitter univ...</td>\n",
       "    </tr>\n",
       "    <tr>\n",
       "      <th>199974</th>\n",
       "      <td>sitting on a train that seems to stop more tha...</td>\n",
       "    </tr>\n",
       "    <tr>\n",
       "      <th>199975</th>\n",
       "      <td>setting up for the meeting room interview sequ...</td>\n",
       "    </tr>\n",
       "    <tr>\n",
       "      <th>199976</th>\n",
       "      <td>i had microwavable egg fried rice earlier . ba...</td>\n",
       "    </tr>\n",
       "    <tr>\n",
       "      <th>199977</th>\n",
       "      <td>wish i was !!!</td>\n",
       "    </tr>\n",
       "    <tr>\n",
       "      <th>199978</th>\n",
       "      <td>i like the fourth one ! but i only had that on...</td>\n",
       "    </tr>\n",
       "    <tr>\n",
       "      <th>199979</th>\n",
       "      <td>today is such a nice day i wish i didn ' t hav...</td>\n",
       "    </tr>\n",
       "    <tr>\n",
       "      <th>199980</th>\n",
       "      <td>random thought im most def tweeting to zero au...</td>\n",
       "    </tr>\n",
       "    <tr>\n",
       "      <th>199981</th>\n",
       "      <td>no , shaney cant be sick</td>\n",
       "    </tr>\n",
       "    <tr>\n",
       "      <th>199982</th>\n",
       "      <td>simon amstell is the buzzcocks .</td>\n",
       "    </tr>\n",
       "    <tr>\n",
       "      <th>199983</th>\n",
       "      <td>i have never felt safer or more at peace then ...</td>\n",
       "    </tr>\n",
       "    <tr>\n",
       "      <th>199984</th>\n",
       "      <td>emails to lee are bouncin back allan did u get...</td>\n",
       "    </tr>\n",
       "    <tr>\n",
       "      <th>199985</th>\n",
       "      <td>rt annettedubow you go girl ! love you ! lori ...</td>\n",
       "    </tr>\n",
       "    <tr>\n",
       "      <th>199986</th>\n",
       "      <td>i ' m out of minutes . so i had to turn twitte...</td>\n",
       "    </tr>\n",
       "    <tr>\n",
       "      <th>199987</th>\n",
       "      <td>also please turn off all of your spymaster not...</td>\n",
       "    </tr>\n",
       "    <tr>\n",
       "      <th>199988</th>\n",
       "      <td>yes ! also in top 5 ! and nerdy movie fact boo...</td>\n",
       "    </tr>\n",
       "    <tr>\n",
       "      <th>199989</th>\n",
       "      <td>i know it ' s spanish , but i figured it out t...</td>\n",
       "    </tr>\n",
       "    <tr>\n",
       "      <th>199990</th>\n",
       "      <td>i ' ve got that boom boom pow</td>\n",
       "    </tr>\n",
       "    <tr>\n",
       "      <th>199991</th>\n",
       "      <td>is bored at work stuck here until 6 day off to...</td>\n",
       "    </tr>\n",
       "    <tr>\n",
       "      <th>199992</th>\n",
       "      <td>i like this pic of you change your twitter ima...</td>\n",
       "    </tr>\n",
       "    <tr>\n",
       "      <th>199993</th>\n",
       "      <td>going to cadets gonna miss apprentice .. damn ...</td>\n",
       "    </tr>\n",
       "    <tr>\n",
       "      <th>199994</th>\n",
       "      <td>be careful driving ! i know you hate traffic j...</td>\n",
       "    </tr>\n",
       "    <tr>\n",
       "      <th>199995</th>\n",
       "      <td>aww you mean bigbird ?</td>\n",
       "    </tr>\n",
       "    <tr>\n",
       "      <th>199996</th>\n",
       "      <td>at sea world</td>\n",
       "    </tr>\n",
       "    <tr>\n",
       "      <th>199997</th>\n",
       "      <td>well yah !? in tv ..</td>\n",
       "    </tr>\n",
       "    <tr>\n",
       "      <th>199998</th>\n",
       "      <td>took otis for a walk now i ' m ã te up with mo...</td>\n",
       "    </tr>\n",
       "    <tr>\n",
       "      <th>199999</th>\n",
       "      <td>why do i get my hopes ?</td>\n",
       "    </tr>\n",
       "  </tbody>\n",
       "</table>\n",
       "<p>200000 rows × 1 columns</p>\n",
       "</div>"
      ],
      "text/plain": [
       "                                                     text\n",
       "0       my dog ate our dinner . no , seriously ... he ...\n",
       "1       omg last day sooon n of primary noooooo x im g...\n",
       "2                 stupid boys .. they ' re so .. stupid !\n",
       "3       hi ! do u know if the nurburgring is open for ...\n",
       "4       having lunch in the office , and thinking of h...\n",
       "5                                        shopping was fun\n",
       "6         wondering where all the nice weather has gone .\n",
       "7                  morning ! yeeessssssss new mimi in aug\n",
       "8       umm ... maybe that ' s how the british spell it ?\n",
       "9       yes it ' s 3 : 50 am . yes i ' m still awake ....\n",
       "10      cute heart shaped portal cube . my baby is pla...\n",
       "11                   had a song on mtv movie awards !!!!!\n",
       "12                                            thanks nite\n",
       "13             did not start her religion isu i will fail\n",
       "14      that sounds wonderful !! i shall have to try i...\n",
       "15      i love ya mariah , i love listening to your so...\n",
       "16      there is sooo much love on here that i could f...\n",
       "17      just found out i ' m gonna be let out early to...\n",
       "18      that was a good thing to wake up to your right...\n",
       "19      and old cam ' pic of tene and i . goodtimes . ...\n",
       "20      ooh my god ! i know the feeling i cannot stand...\n",
       "21      nothing ! just kept us there for 20 minutes un...\n",
       "22      6flags today teexxxt i need to shower but i ' ...\n",
       "23      apparently , these are from filming , not the ...\n",
       "24         hey fairuz ili ! nice to see some friends here\n",
       "25      also cancelled my nikon 50mm lens order needed...\n",
       "26      headed to dallas tomorrow ... need some sleep ...\n",
       "27      i just found out that i won a shirt from prett...\n",
       "28      sad i didnt get tickets 2 nin ja in albuquerqu...\n",
       "29      has had the most enjoyable day she ' s had for...\n",
       "...                                                   ...\n",
       "199970               rewriting stuff allready written ...\n",
       "199971  will check it out when you ' re ready to annou...\n",
       "199972  good morning . anyone know why i get a securit...\n",
       "199973  bestest followers for the best mr twitter univ...\n",
       "199974  sitting on a train that seems to stop more tha...\n",
       "199975  setting up for the meeting room interview sequ...\n",
       "199976  i had microwavable egg fried rice earlier . ba...\n",
       "199977                                     wish i was !!!\n",
       "199978  i like the fourth one ! but i only had that on...\n",
       "199979  today is such a nice day i wish i didn ' t hav...\n",
       "199980  random thought im most def tweeting to zero au...\n",
       "199981                           no , shaney cant be sick\n",
       "199982                   simon amstell is the buzzcocks .\n",
       "199983  i have never felt safer or more at peace then ...\n",
       "199984  emails to lee are bouncin back allan did u get...\n",
       "199985  rt annettedubow you go girl ! love you ! lori ...\n",
       "199986  i ' m out of minutes . so i had to turn twitte...\n",
       "199987  also please turn off all of your spymaster not...\n",
       "199988  yes ! also in top 5 ! and nerdy movie fact boo...\n",
       "199989  i know it ' s spanish , but i figured it out t...\n",
       "199990                      i ' ve got that boom boom pow\n",
       "199991  is bored at work stuck here until 6 day off to...\n",
       "199992  i like this pic of you change your twitter ima...\n",
       "199993  going to cadets gonna miss apprentice .. damn ...\n",
       "199994  be careful driving ! i know you hate traffic j...\n",
       "199995                             aww you mean bigbird ?\n",
       "199996                                       at sea world\n",
       "199997                               well yah !? in tv ..\n",
       "199998  took otis for a walk now i ' m ã te up with mo...\n",
       "199999                            why do i get my hopes ?\n",
       "\n",
       "[200000 rows x 1 columns]"
      ]
     },
     "execution_count": 46,
     "metadata": {},
     "output_type": "execute_result"
    }
   ],
   "source": [
    "# Write prediction results into a csv file\n",
    "with open(\"predict.csv\", 'w') as f:\n",
    "    f.write('id,label\\n')\n",
    "    for i, y in  enumerate(prediction):\n",
    "        f.write('{},{}\\n'.format(i, y))"
   ]
  },
  {
   "cell_type": "code",
   "execution_count": 61,
   "metadata": {},
   "outputs": [
    {
     "name": "stdout",
     "output_type": "stream",
     "text": [
      "[ 1  2  3 11 22 33 44 55 66]\n"
     ]
    }
   ],
   "source": [
    "a=np.array([1,2,3])\n",
    "b=np.array([11,22,33])\n",
    "c=np.array([44,55,66])\n",
    "print(np.concatenate((a,b,c),axis=0))"
   ]
  },
  {
   "cell_type": "code",
   "execution_count": 62,
   "metadata": {},
   "outputs": [
    {
     "data": {
      "text/plain": [
       "(3,)"
      ]
     },
     "execution_count": 62,
     "metadata": {},
     "output_type": "execute_result"
    }
   ],
   "source": [
    "a.shape"
   ]
  },
  {
   "cell_type": "code",
   "execution_count": null,
   "metadata": {},
   "outputs": [],
   "source": []
  }
 ],
 "metadata": {
  "kernelspec": {
   "display_name": "Python 3",
   "language": "python",
   "name": "python3"
  },
  "language_info": {
   "codemirror_mode": {
    "name": "ipython",
    "version": 3
   },
   "file_extension": ".py",
   "mimetype": "text/x-python",
   "name": "python",
   "nbconvert_exporter": "python",
   "pygments_lexer": "ipython3",
   "version": "3.7.2"
  }
 },
 "nbformat": 4,
 "nbformat_minor": 2
}
