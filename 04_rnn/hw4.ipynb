{
 "cells": [
  {
   "cell_type": "code",
   "execution_count": 4,
   "metadata": {},
   "outputs": [],
   "source": [
    "import warnings\n",
    "warnings.filterwarnings('ignore')"
   ]
  },
  {
   "cell_type": "code",
   "execution_count": 5,
   "metadata": {},
   "outputs": [],
   "source": [
    "import os\n",
    "import numpy as np\n",
    "import pandas as pd\n",
    "from argparse import ArgumentParser\n",
    "from keras.preprocessing.text import one_hot\n",
    "from keras.preprocessing.sequence import pad_sequences\n",
    "from keras.models import Sequential # NN Activation\n",
    "from keras.layers import Embedding # Embedding layer\n",
    "from keras.layers import Flatten\n",
    "from keras.layers import Dense # Fully Connected Networks"
   ]
  },
  {
   "cell_type": "code",
   "execution_count": 6,
   "metadata": {},
   "outputs": [],
   "source": [
    "# Pre-processing: reading and parsing data\n",
    "file_training_label = 'data/training_label.txt'\n",
    "file_training_unlabel = 'data/training_nolabel.txt'"
   ]
  },
  {
   "cell_type": "code",
   "execution_count": 7,
   "metadata": {},
   "outputs": [],
   "source": [
    "with open(file_training_label, 'r', encoding='utf-8') as f:\n",
    "    lines = f.readlines()\n",
    "    sentiment = []\n",
    "    text = []\n",
    "    for line in lines:\n",
    "        parsed = line.split(maxsplit=2)\n",
    "        sentiment.append(int(parsed[0]))\n",
    "        text.append(parsed[2].rstrip('\\n'))\n",
    "        \n",
    "    data_training_label = pd.DataFrame({'sentiment': sentiment, 'text': text})\n",
    "\n",
    "with open(file_training_unlabel, 'r', encoding='utf-8') as f:\n",
    "    lines = f.readlines()    \n",
    "    lines = [line.rstrip('\\n') for line in lines]\n",
    "    \n",
    "    data_training_unlabel = pd.DataFrame({'text': lines})"
   ]
  },
  {
   "cell_type": "code",
   "execution_count": 8,
   "metadata": {},
   "outputs": [],
   "source": [
    "# Word embedding method 1: BOW(bag of words)\n",
    "# Use Gensim module\n",
    "import gensim\n",
    "import pprint\n",
    "from gensim import corpora\n",
    "from gensim.utils import simple_preprocess\n",
    "\n",
    "doc_tokenized = [simple_preprocess(doc) for doc in data_training_label['text'].tolist()]\n",
    "dictionary = corpora.Dictionary()\n",
    "BoW_corpus = [dictionary.doc2bow(doc, allow_update=True) for doc in doc_tokenized]\n",
    "id_words = [[(dictionary[id], count) for id, count in line] for line in BoW_corpus]"
   ]
  },
  {
   "cell_type": "code",
   "execution_count": 55,
   "metadata": {},
   "outputs": [],
   "source": [
    "# integer encode the documents\n",
    "vocab_size = 50\n",
    "\n",
    "# pad documents to a max length of 4 words\n",
    "max_length = 16\n",
    "\n",
    "encoded_docs_label = [one_hot(d, vocab_size) for d in data_training_label['text']]\n",
    "padded_docs_label = pad_sequences(encoded_docs_label, maxlen=max_length, padding='post')\n",
    "encoded_docs_unlabel = [one_hot(d, vocab_size) for d in data_training_unlabel['text']]\n",
    "padded_docs_unlabel = pad_sequences(encoded_docs_unlabel, maxlen=max_length, padding='post')"
   ]
  },
  {
   "cell_type": "code",
   "execution_count": 56,
   "metadata": {},
   "outputs": [],
   "source": []
  },
  {
   "cell_type": "code",
   "execution_count": 57,
   "metadata": {},
   "outputs": [
    {
     "name": "stdout",
     "output_type": "stream",
     "text": [
      "Model: \"sequential_11\"\n",
      "_________________________________________________________________\n",
      "Layer (type)                 Output Shape              Param #   \n",
      "=================================================================\n",
      "embedding_11 (Embedding)     (None, 16, 8)             400       \n",
      "_________________________________________________________________\n",
      "flatten_11 (Flatten)         (None, 128)               0         \n",
      "_________________________________________________________________\n",
      "dense_24 (Dense)             (None, 1)                 129       \n",
      "=================================================================\n",
      "Total params: 529\n",
      "Trainable params: 529\n",
      "Non-trainable params: 0\n",
      "_________________________________________________________________\n",
      "None\n",
      "Accuracy: 61.030501\n"
     ]
    }
   ],
   "source": [
    "model = new_model()\n",
    "labels = np.array(data_training_label['sentiment'])\n",
    "model.fit(padded_docs_label, labels, epochs=50, verbose=0)\n",
    "loss, accuracy = model.evaluate(padded_docs_label, labels, verbose=0)\n",
    "print('Accuracy: %f' % (accuracy*100))"
   ]
  },
  {
   "cell_type": "code",
   "execution_count": 68,
   "metadata": {},
   "outputs": [
    {
     "data": {
      "text/plain": [
       "array([[1.],\n",
       "       [0.],\n",
       "       [0.],\n",
       "       ...,\n",
       "       [1.],\n",
       "       [1.],\n",
       "       [1.]], dtype=float32)"
      ]
     },
     "execution_count": 68,
     "metadata": {},
     "output_type": "execute_result"
    }
   ],
   "source": [
    "new_labels = model.predict(padded_docs_unlabel)\n",
    "new_labels[new_labels>=0.5] = 1\n",
    "new_labels[new_labels<0.5] = 0"
   ]
  },
  {
   "cell_type": "code",
   "execution_count": 76,
   "metadata": {},
   "outputs": [],
   "source": [
    "new_labels = new_labels.reshape(new_labels.shape[0],)"
   ]
  },
  {
   "cell_type": "code",
   "execution_count": 82,
   "metadata": {},
   "outputs": [
    {
     "data": {
      "text/plain": [
       "(1378614,)"
      ]
     },
     "execution_count": 82,
     "metadata": {},
     "output_type": "execute_result"
    }
   ],
   "source": [
    "labels_augmented.shape"
   ]
  },
  {
   "cell_type": "code",
   "execution_count": 80,
   "metadata": {},
   "outputs": [],
   "source": [
    "padded_docs_augmented = np.concatenate((padded_docs_label, padded_docs_unlabel), axis=0)\n",
    "labels_augmented = np.concatenate((labels, new_labels))"
   ]
  },
  {
   "cell_type": "code",
   "execution_count": 79,
   "metadata": {},
   "outputs": [
    {
     "data": {
      "text/plain": [
       "array([[ 7, 17, 15, ...,  0,  0,  0],\n",
       "       [ 7, 22, 21, ...,  0,  0,  0],\n",
       "       [ 7, 38,  7, ..., 48,  0,  0],\n",
       "       ...,\n",
       "       [47,  7, 26, ...,  0,  0,  0],\n",
       "       [41, 29, 38, ..., 17,  7, 21],\n",
       "       [43, 20,  7, ...,  0,  0,  0]])"
      ]
     },
     "execution_count": 79,
     "metadata": {},
     "output_type": "execute_result"
    }
   ],
   "source": [
    "padded_docs_augmented"
   ]
  },
  {
   "cell_type": "code",
   "execution_count": 83,
   "metadata": {},
   "outputs": [
    {
     "name": "stdout",
     "output_type": "stream",
     "text": [
      "Model: \"sequential_12\"\n",
      "_________________________________________________________________\n",
      "Layer (type)                 Output Shape              Param #   \n",
      "=================================================================\n",
      "embedding_12 (Embedding)     (None, 16, 8)             400       \n",
      "_________________________________________________________________\n",
      "flatten_12 (Flatten)         (None, 128)               0         \n",
      "_________________________________________________________________\n",
      "dense_25 (Dense)             (None, 1)                 129       \n",
      "=================================================================\n",
      "Total params: 529\n",
      "Trainable params: 529\n",
      "Non-trainable params: 0\n",
      "_________________________________________________________________\n",
      "None\n",
      "Accuracy: 92.730522\n"
     ]
    }
   ],
   "source": [
    "model = new_model()\n",
    "model.fit(padded_docs_augmented, labels_augmented, epochs=50, verbose=0)\n",
    "loss, accuracy = model.evaluate(padded_docs_augmented, labels_augmented, verbose=0)\n",
    "print('Accuracy: %f' % (accuracy*100))"
   ]
  },
  {
   "cell_type": "code",
   "execution_count": 54,
   "metadata": {},
   "outputs": [],
   "source": [
    "# define the mode: DNN for classification (1: positive, 0: negative)\n",
    "def new_model():\n",
    "    model = Sequential()\n",
    "    model.add(Embedding(vocab_size, 8, input_length=max_length))\n",
    "    model.add(Flatten())\n",
    "    model.add(Dense(units=1, activation='sigmoid'))\n",
    "    model.compile(optimizer='adam', loss='binary_crossentropy', metrics=['accuracy'])\n",
    "    \n",
    "    print(model.summary())\n",
    "    \n",
    "    return model"
   ]
  },
  {
   "cell_type": "code",
   "execution_count": 42,
   "metadata": {},
   "outputs": [
    {
     "name": "stdout",
     "output_type": "stream",
     "text": [
      "Accuracy: 60.949498\n"
     ]
    }
   ],
   "source": [
    "# fit the model\n",
    "model.fit(padded_docs, labels, epochs=50, verbose=0)\n",
    "# evaluate the model\n",
    "loss, accuracy = model.evaluate(padded_docs, labels, verbose=0)\n",
    "print('Accuracy: %f' % (accuracy*100))"
   ]
  },
  {
   "cell_type": "code",
   "execution_count": 45,
   "metadata": {},
   "outputs": [],
   "source": [
    "encoded_docs = [one_hot(d, vocab_size) for d in data_training_unlabel['text']]\n",
    "padded_docs = pad_sequences(encoded_docs, maxlen=max_length, padding='post')"
   ]
  },
  {
   "cell_type": "code",
   "execution_count": null,
   "metadata": {},
   "outputs": [],
   "source": [
    "# Plot learning curve\n",
    "# Fit the model\n",
    "history = model.fit(X, Y, validation_split=0.33, epochs=150, batch_size=10, verbose=0)\n",
    "# list all data in history\n",
    "print(history.history.keys())\n",
    "# summarize history for accuracy\n",
    "plt.plot(history.history['accuracy'])\n",
    "plt.plot(history.history['val_accuracy'])\n",
    "plt.title('model accuracy')\n",
    "plt.ylabel('accuracy')\n",
    "plt.xlabel('epoch')\n",
    "plt.legend(['train', 'test'], loc='upper left')\n",
    "plt.show()\n",
    "# summarize history for loss\n",
    "plt.plot(history.history['loss'])\n",
    "plt.plot(history.history['val_loss'])\n",
    "plt.title('model loss')\n",
    "plt.ylabel('loss')\n",
    "plt.xlabel('epoch')\n",
    "plt.legend(['train', 'test'], loc='upper left')\n",
    "plt.show()"
   ]
  },
  {
   "cell_type": "code",
   "execution_count": null,
   "metadata": {},
   "outputs": [],
   "source": [
    "# Saving model\n",
    "model.save('hw4.h5')"
   ]
  },
  {
   "cell_type": "code",
   "execution_count": null,
   "metadata": {},
   "outputs": [],
   "source": [
    "# Loading Model: download if doesn't exist in current directory\n",
    "model = keras.models.load_model('hw4.h5')"
   ]
  },
  {
   "cell_type": "code",
   "execution_count": null,
   "metadata": {},
   "outputs": [],
   "source": []
  },
  {
   "cell_type": "code",
   "execution_count": 85,
   "metadata": {},
   "outputs": [],
   "source": [
    "file_testing = 'data/testing_data.txt'\n",
    "file_prediction = 'prediction.csv'"
   ]
  },
  {
   "cell_type": "code",
   "execution_count": 93,
   "metadata": {},
   "outputs": [],
   "source": [
    "with open(file_testing, 'r', encoding='utf-8') as f:\n",
    "    lines = f.readlines()    \n",
    "    lines = [line.rstrip('\\n') for line in lines]\n",
    "    \n",
    "    data_testing = pd.DataFrame({'text': text})"
   ]
  },
  {
   "cell_type": "code",
   "execution_count": 97,
   "metadata": {},
   "outputs": [],
   "source": [
    "encoded_docs_testing = [one_hot(d, vocab_size) for d in data_testing['text']]\n",
    "padded_docs_testing = pad_sequences(encoded_docs_testing, maxlen=max_length, padding='post')"
   ]
  },
  {
   "cell_type": "code",
   "execution_count": 104,
   "metadata": {},
   "outputs": [],
   "source": [
    "prediction = model.predict(padded_docs_testing)\n",
    "prediction = prediction.reshape(prediction.shape[0],)"
   ]
  },
  {
   "cell_type": "code",
   "execution_count": 105,
   "metadata": {},
   "outputs": [],
   "source": [
    "prediction[prediction>=0.5] = 1\n",
    "prediction[prediction<0.5] = 0"
   ]
  },
  {
   "cell_type": "code",
   "execution_count": 106,
   "metadata": {},
   "outputs": [
    {
     "data": {
      "text/plain": [
       "array([1., 0., 1., ..., 0., 0., 0.], dtype=float32)"
      ]
     },
     "execution_count": 106,
     "metadata": {},
     "output_type": "execute_result"
    }
   ],
   "source": [
    "prediction"
   ]
  },
  {
   "cell_type": "code",
   "execution_count": 107,
   "metadata": {},
   "outputs": [],
   "source": [
    "# Write prediction results into a csv file\n",
    "with open(\"predict.csv\", 'w') as f:\n",
    "    f.write('id,label\\n')\n",
    "    for i, y in  enumerate(prediction):\n",
    "        f.write('{},{}\\n'.format(i, int(y)))"
   ]
  }
 ],
 "metadata": {
  "kernelspec": {
   "display_name": "Python 3",
   "language": "python",
   "name": "python3"
  },
  "language_info": {
   "codemirror_mode": {
    "name": "ipython",
    "version": 3
   },
   "file_extension": ".py",
   "mimetype": "text/x-python",
   "name": "python",
   "nbconvert_exporter": "python",
   "pygments_lexer": "ipython3",
   "version": "3.7.2"
  }
 },
 "nbformat": 4,
 "nbformat_minor": 2
}
